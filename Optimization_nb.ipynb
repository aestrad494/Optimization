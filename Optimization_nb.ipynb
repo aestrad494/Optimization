{
 "cells": [
  {
   "cell_type": "markdown",
   "metadata": {},
   "source": [
    "# Optimization Attemp 2"
   ]
  },
  {
   "cell_type": "markdown",
   "metadata": {},
   "source": [
    "### Importing Packages"
   ]
  },
  {
   "cell_type": "code",
   "execution_count": 1,
   "metadata": {},
   "outputs": [],
   "source": [
    "import pandas as pd\n",
    "import numpy as np\n",
    "from math import floor\n",
    "from datetime import timedelta\n",
    "import matplotlib.pyplot as plt\n",
    "from Backtesting_Class import Backtesting_Strategy"
   ]
  },
  {
   "cell_type": "markdown",
   "metadata": {},
   "source": [
    "### Definning variable"
   ]
  },
  {
   "cell_type": "code",
   "execution_count": 2,
   "metadata": {},
   "outputs": [],
   "source": [
    "exit_target_sell = False\n",
    "exit_range_sell = False\n",
    "exit_hour_sell = False\n",
    "exit_target_buy = False\n",
    "exit_range_buy = False\n",
    "exit_hour_buy = False"
   ]
  },
  {
   "cell_type": "code",
   "execution_count": 3,
   "metadata": {},
   "outputs": [],
   "source": [
    "instrument = 'AAPL'\n",
    "hora_ini = '09:30:00'\n",
    "hora_fin = '16:00:00'\n",
    "client = 100\n",
    "tempo = 5\n",
    "num_bars = 4\n",
    "tempo_h = 5\n",
    "num_bars_h = int((num_bars*tempo)/tempo_h)\n",
    "account = 20000\n",
    "risk = 0.01\n",
    "profit_buy_pos = 0\n",
    "profit_sell_pos = 0\n",
    "profit_buy_neg = 0\n",
    "profit_sell_neg = 0\n",
    "exit_buy = 0\n",
    "exit_sell = 0\n",
    "total = []\n",
    "final_results = []"
   ]
  },
  {
   "cell_type": "markdown",
   "metadata": {},
   "source": [
    "### Resample Data"
   ]
  },
  {
   "cell_type": "code",
   "execution_count": 4,
   "metadata": {},
   "outputs": [],
   "source": [
    "def resample_data (df, tempo_in, tempo_out):\n",
    "    res = str(tempo_out)+'Min'\n",
    "    \n",
    "    if tempo_in < tempo_out:\n",
    "        date = df.index\n",
    "        Open = df.open.resample(res).first()\n",
    "        High = df.high.resample(res).max()\n",
    "        Low = df.low.resample(res).min()\n",
    "        Close = df.close.resample(res).last()\n",
    "        df_res = pd.concat([Open, High, Low, Close], axis = 1)\n",
    "        df_res.columns = ['open', 'high', 'low', 'close']\n",
    "        \n",
    "        return (df_res)\n",
    "    else:\n",
    "        print('no fue posible hacer la conversion')\n",
    "        return (df)"
   ]
  },
  {
   "cell_type": "markdown",
   "metadata": {},
   "source": [
    "### Progress Bar"
   ]
  },
  {
   "cell_type": "code",
   "execution_count": 5,
   "metadata": {},
   "outputs": [],
   "source": [
    "def printProgressBar (iteration, total, prefix = '', suffix = '', decimals = 1, length = 100, fill = '#'):\n",
    "    percent = (\"{0:.\" + str(decimals) + \"f}\").format(100 * (iteration / float(total)))\n",
    "    filledLength = int(length * iteration // total)\n",
    "    bar = fill * filledLength + '-' * (length - filledLength)\n",
    "    print('\\r%s |%s| %s%% %s' % (prefix, bar, percent, suffix), end = '\\r')\n",
    "    # Print New Line on Complete\n",
    "    if iteration == total: \n",
    "        print()"
   ]
  },
  {
   "cell_type": "markdown",
   "metadata": {},
   "source": [
    "### Download Data"
   ]
  },
  {
   "cell_type": "code",
   "execution_count": 6,
   "metadata": {},
   "outputs": [],
   "source": [
    "#historical = pd.read_csv('BABA_5min.csv').set_index('date')"
   ]
  },
  {
   "cell_type": "code",
   "execution_count": 7,
   "metadata": {},
   "outputs": [],
   "source": [
    "historical_0 = pd.read_csv('UNH_5secs.csv').set_index('date')\n",
    "historical_0.index = pd.to_datetime(historical_0.index)"
   ]
  },
  {
   "cell_type": "code",
   "execution_count": 8,
   "metadata": {},
   "outputs": [],
   "source": [
    "historical = historical_0"
   ]
  },
  {
   "cell_type": "code",
   "execution_count": 9,
   "metadata": {},
   "outputs": [],
   "source": [
    "#historical = resample_data(historical_0, 1/12, 5).dropna()"
   ]
  },
  {
   "cell_type": "markdown",
   "metadata": {},
   "source": [
    "### Setting the initial and final date to get days of evaluation"
   ]
  },
  {
   "cell_type": "code",
   "execution_count": 10,
   "metadata": {},
   "outputs": [
    {
     "name": "stdout",
     "output_type": "stream",
     "text": [
      "Number of Evaluation days:  372\n"
     ]
    }
   ],
   "source": [
    "initial_date = '2018/06/08'\n",
    "final_date = '2019/06/14'\n",
    "\n",
    "delta = (pd.to_datetime(final_date) - pd.to_datetime(initial_date)).days + 1\n",
    "print('Number of Evaluation days: ', delta)"
   ]
  },
  {
   "cell_type": "code",
   "execution_count": 11,
   "metadata": {},
   "outputs": [],
   "source": [
    "dates = [str((pd.to_datetime(initial_date) + timedelta(days=x)).strftime(\"%Y/%m/%d\")) for x in range(delta)]"
   ]
  },
  {
   "cell_type": "markdown",
   "metadata": {},
   "source": [
    "### Setting variables to optimize"
   ]
  },
  {
   "cell_type": "markdown",
   "metadata": {},
   "source": [
    "#### target"
   ]
  },
  {
   "cell_type": "code",
   "execution_count": 16,
   "metadata": {},
   "outputs": [],
   "source": [
    "start = 0.5\n",
    "paso = 0.1\n",
    "stop = 2.5"
   ]
  },
  {
   "cell_type": "code",
   "execution_count": 22,
   "metadata": {},
   "outputs": [],
   "source": [
    "list_iter_target = np.round(list(np.arange(start,stop+paso,paso)),2)\n",
    "len_ite_tar = len(list_iter_target)"
   ]
  },
  {
   "cell_type": "markdown",
   "metadata": {},
   "source": [
    "#### number of vars"
   ]
  },
  {
   "cell_type": "code",
   "execution_count": null,
   "metadata": {},
   "outputs": [],
   "source": [
    "start = 1\n",
    "paso = 1\n",
    "stop = 4"
   ]
  },
  {
   "cell_type": "code",
   "execution_count": null,
   "metadata": {},
   "outputs": [],
   "source": [
    "list_ite_num_bars = list(np.arange(start,stop+paso,paso))\n",
    "len_ite_num_bars = len(list_ite_num_bars)"
   ]
  },
  {
   "cell_type": "markdown",
   "metadata": {},
   "source": [
    "#### Temporality"
   ]
  },
  {
   "cell_type": "code",
   "execution_count": null,
   "metadata": {},
   "outputs": [],
   "source": [
    "list_ite_tempo = [1, 2, 5]\n",
    "len_ite_tempo = len(list_ite_tempo)"
   ]
  },
  {
   "cell_type": "markdown",
   "metadata": {},
   "source": [
    "### Number of Iterations"
   ]
  },
  {
   "cell_type": "code",
   "execution_count": null,
   "metadata": {},
   "outputs": [],
   "source": [
    "total_iterations = len_ite_tempo*len_ite_num_bars*len_ite_tar"
   ]
  },
  {
   "cell_type": "code",
   "execution_count": null,
   "metadata": {},
   "outputs": [],
   "source": [
    "total = pd.DataFrame(total)\n",
    "final_results = pd.DataFrame(final_results)"
   ]
  },
  {
   "cell_type": "markdown",
   "metadata": {},
   "source": [
    "### Main Code to calculate the backtesting results"
   ]
  },
  {
   "cell_type": "code",
   "execution_count": null,
   "metadata": {},
   "outputs": [],
   "source": [
    "iteration = 0\n",
    "for tempo in list_ite_tempo:   \n",
    "    for num_bars in list_ite_num_bars:\n",
    "        #tempo_h = 5\n",
    "        num_bars_h = int((num_bars*tempo)/tempo_h)\n",
    "        for target_ite in list_iter_target: \n",
    "            iteration+=1\n",
    "            printProgressBar(iteration + 1, total_iterations   , prefix = 'Progress:', suffix = 'Complete', length = 50)\n",
    "            for date in dates:\n",
    "                #Getting the historical piece of data to evaluate\n",
    "                hist = historical.loc[date,:]\n",
    "\n",
    "                #Getting the max and mix from historical data. Calculating lots and target\n",
    "                if (hist.empty == False):\n",
    "                    maximum = hist.high.rolling(num_bars_h).max()[num_bars_h-1]\n",
    "                    minimum = hist.low.rolling(num_bars_h).min()[num_bars_h-1]\n",
    "                    range_tam = round(maximum - minimum,2)\n",
    "                    target = target_ite\n",
    "                    lots = floor((account*risk)/(maximum-minimum)) \n",
    "                else:\n",
    "                    maximum = minimum = 0\n",
    "                    range_tam = target = lots = 0\n",
    "                    max_high = min_low = 0\n",
    "                    exit_buy = exit_sell = 0\n",
    "                    calc_sell = calc_buy = False\n",
    "\n",
    "                #When to buy and sell\n",
    "                hist['in_buy'] = hist['high'] > maximum\n",
    "                hist['in_sell'] = hist['low'] < minimum\n",
    "\n",
    "                if (hist.in_sell.sum() > 0):\n",
    "                    calc_sell = True\n",
    "                    price_sell = round(minimum - 0.02,2)\n",
    "                    in_sell_bar = list(hist['in_sell'])\n",
    "                    in_sell_bar = in_sell_bar.index(True)\n",
    "                    highs_sell = hist.iloc[in_sell_bar:,1]\n",
    "                    lows_sell = hist.iloc[in_sell_bar:,2]\n",
    "                else:\n",
    "                    calc_sell = False\n",
    "                    price_sell = 0\n",
    "\n",
    "                if (hist.in_buy.sum() > 0):\n",
    "                    calc_buy = True\n",
    "                    price_buy = round(maximum + 0.02,2)\n",
    "                    in_buy_bar = list(hist['in_buy'])\n",
    "                    in_buy_bar = in_buy_bar.index(True)\n",
    "                    highs_buy = hist.iloc[in_buy_bar:,1]\n",
    "                    lows_buy = hist.iloc[in_buy_bar:,2]\n",
    "                else:\n",
    "                    calc_buy = False\n",
    "                    price_buy = 0\n",
    "\n",
    "                #Determining when to exit\n",
    "                ##sells\n",
    "                if (calc_sell == True):    \n",
    "                    for k in range(len(lows_sell)):\n",
    "                        if (k == 0):\n",
    "                            new_high_sells = highs_sell[k]\n",
    "                            new_low_sells = lows_sell[k]\n",
    "                        if (k > 0):\n",
    "                            if (highs_sell[k] > new_high_sells):\n",
    "                                new_high_sells = highs_sell[k]\n",
    "                            if (lows_sell[k] < new_low_sells):\n",
    "                                new_low_sells = lows_sell[k]\n",
    "\n",
    "                        profit_sell_pos = round(price_sell - new_low_sells ,2)\n",
    "                        profit_sell_neg = round(price_sell - new_high_sells , 2)\n",
    "                        if (profit_sell_neg < -range_tam ):\n",
    "                            profit_sell_neg = -range_tam\n",
    "\n",
    "                        if (profit_sell_pos > target):\n",
    "                            exit_target_sell = True\n",
    "                            exit_sell = target\n",
    "                        if (exit_target_sell == False) and (new_high_sells > maximum):\n",
    "                            exit_range_sell = True\n",
    "                            exit_sell = round(price_sell - maximum,2)\n",
    "                        if (exit_target_sell == False) and (exit_range_sell == False) and (k == len(lows_sell)-1):\n",
    "                            exit_hour_sell = True\n",
    "                            exit_sell = round(price_sell - hist.iloc[-1,3],2)\n",
    "                else:\n",
    "                    exit_sell = 0\n",
    "                    profit_sell_pos = 0\n",
    "                    profit_sell_neg = 0\n",
    "\n",
    "                ##buys\n",
    "                if(calc_buy == True):    \n",
    "                    for j in range(len(highs_buy)):\n",
    "                        if (j == 0):\n",
    "                            new_high_buys = highs_buy[j]\n",
    "                            new_low_buys = lows_buy[j]\n",
    "                        if(j > 0):\n",
    "                            if (highs_buy[j] > new_high_buys):\n",
    "                                new_high_buys = highs_buy[j]\n",
    "                            if(lows_buy[j] < new_low_buys):\n",
    "                                new_low_buys = lows_buy[j]\n",
    "\n",
    "                        profit_buy_pos = round(new_high_buys - price_buy ,2)\n",
    "                        profit_buy_neg = round(new_low_buys - price_buy, 2)\n",
    "                        if (profit_buy_neg < -range_tam ):\n",
    "                            profit_buy_neg = -range_tam\n",
    "\n",
    "                        if (profit_buy_pos > target):\n",
    "                            exit_target_buy = True\n",
    "                            exit_buy = target\n",
    "                        if (exit_target_buy == False) and (new_low_buys < minimum):\n",
    "                            exit_range_buy = True\n",
    "                            exit_buy = round(minimum - price_buy,2)\n",
    "                        if (exit_target_buy == False) and (exit_range_buy == False) and (j == len(highs_buy)-1):\n",
    "                            exit_hour_buy = True\n",
    "                            exit_buy = round(hist.iloc[-1,3] - price_buy,2)\n",
    "                else:\n",
    "                    exit_buy = 0\n",
    "                    profit_buy_pos = 0\n",
    "                    profit_buy_neg = 0\n",
    "\n",
    "                #Getting results\n",
    "                results = [date, exit_buy, exit_sell, profit_buy_pos, profit_sell_pos, \n",
    "                           profit_buy_neg, profit_sell_neg, lots]\n",
    "                results = pd.DataFrame(results).T.set_index(0)\n",
    "\n",
    "                #Appending results\n",
    "                total = pd.concat([total,results])\n",
    "\n",
    "                #restart variables in each iteration\n",
    "                profit_buy_pos = profit_sell_pos = 0\n",
    "                profit_buy_neg = profit_sell_neg = 0\n",
    "                exit_buy = exit_sell = 0\n",
    "                exit_target_sell = exit_range_sell = False\n",
    "                exit_hour_sell = exit_target_buy = False\n",
    "                exit_range_buy = exit_hour_buy = False\n",
    "                calc_buy = calc_sell = False\n",
    "                \n",
    "            #Extern For cycle\n",
    "            #Naming the total table\n",
    "            total.index.names = ['date']\n",
    "            total.columns = ['final profit buy', 'final profit sell', 'max profit buy', 'max profit sell', 'min profit buy', 'min profit sell', 'lots']\n",
    "            #Profit by day\n",
    "            total['profit usd'] = (total['final profit buy']+total['final profit sell'])*total['lots']\n",
    "            #Accumulated Profit\n",
    "            total['accumulated profit'] = total['profit usd'].cumsum() + account\n",
    "            total['max profit'] = total['accumulated profit'].cummax()\n",
    "            \n",
    "            #Instantiating Backtesting Class\n",
    "            back = Backtesting_Strategy(total)\n",
    "            \n",
    "            #--------- Results ---------\n",
    "            \n",
    "            #Net Profit -----------------------\n",
    "            ##Total profit\n",
    "            total_profit_usd = back.final_profit_usd()\n",
    "            ##Total Commissions\n",
    "            total_commissions = back.total_commissions()\n",
    "            \n",
    "            net_profit = total_profit_usd - total_commissions\n",
    "\n",
    "            #Profit Factor -----------------------\n",
    "            ##Gross Profit and Loss\n",
    "            gross_profit, gross_loss = back.gross_profit_and_loss()\n",
    "            \n",
    "            profit_factor = round(abs(gross_profit/gross_loss),2)\n",
    "\n",
    "            #Expected Payoff ---------------------------\n",
    "            ##Number of trades\n",
    "            total_trades, total_positive, total_negative, percent_total = back.transactions_info('total')\n",
    "            \n",
    "            expected_payoff = round(net_profit / total_trades,2)\n",
    "\n",
    "            #Maximal Drawdown -----------------\n",
    "            max_drawdown, max_draw_date = back.max_drawdown()\n",
    "\n",
    "            #Relative Drawdown -------------------------\n",
    "            relative_drawdown = round((max_drawdown/account)*100,2)\n",
    "\n",
    "            #----------------------Final Results--------------------------------\n",
    "            partial_results = [int(tempo), int(num_bars), target_ite, net_profit, profit_factor, \n",
    "                               expected_payoff, max_drawdown, relative_drawdown]\n",
    "            partial_results = pd.DataFrame(partial_results).T.set_index(0)\n",
    "\n",
    "            final_results = pd.concat([final_results,partial_results])\n",
    "\n",
    "            #Restart variables-----------------------\n",
    "            total = []\n",
    "            total = pd.DataFrame(total)"
   ]
  },
  {
   "cell_type": "code",
   "execution_count": null,
   "metadata": {},
   "outputs": [],
   "source": [
    "final_results.index.names = ['temporality']\n",
    "final_results.columns = ['num of bars', 'target', 'net profit', \n",
    "                 'profit factor', 'expected payoff', 'max drawdown', 'relative drawdown']"
   ]
  },
  {
   "cell_type": "code",
   "execution_count": null,
   "metadata": {},
   "outputs": [],
   "source": [
    "final_results['profit_dd'] = final_results['net profit'] / final_results['max drawdown']"
   ]
  },
  {
   "cell_type": "code",
   "execution_count": null,
   "metadata": {},
   "outputs": [],
   "source": [
    "final_results"
   ]
  },
  {
   "cell_type": "code",
   "execution_count": 15,
   "metadata": {},
   "outputs": [
    {
     "data": {
      "text/plain": [
       "'results_AAPL_5secs_5min.csv'"
      ]
     },
     "execution_count": 15,
     "metadata": {},
     "output_type": "execute_result"
    }
   ],
   "source": [
    "'results_'+instrument+'_5secs_'+str(tempo)+'min.csv'"
   ]
  },
  {
   "cell_type": "code",
   "execution_count": null,
   "metadata": {},
   "outputs": [],
   "source": [
    "#final_results.to_csv('results.csv')"
   ]
  },
  {
   "cell_type": "code",
   "execution_count": null,
   "metadata": {},
   "outputs": [],
   "source": []
  }
 ],
 "metadata": {
  "kernelspec": {
   "display_name": "Python 3",
   "language": "python",
   "name": "python3"
  },
  "language_info": {
   "codemirror_mode": {
    "name": "ipython",
    "version": 3
   },
   "file_extension": ".py",
   "mimetype": "text/x-python",
   "name": "python",
   "nbconvert_exporter": "python",
   "pygments_lexer": "ipython3",
   "version": "3.7.3"
  }
 },
 "nbformat": 4,
 "nbformat_minor": 2
}
