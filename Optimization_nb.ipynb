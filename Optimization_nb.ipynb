{
 "cells": [
  {
   "cell_type": "markdown",
   "metadata": {},
   "source": [
    "# Optimization Attemp 2"
   ]
  },
  {
   "cell_type": "markdown",
   "metadata": {},
   "source": [
    "### Importing Packages"
   ]
  },
  {
   "cell_type": "code",
   "execution_count": null,
   "metadata": {},
   "outputs": [],
   "source": [
    "from ib_insync import *\n",
    "util.startLoop()\n",
    "import pandas as pd\n",
    "import numpy as np\n",
    "import datetime\n",
    "import calendar\n",
    "import time\n",
    "from IPython.display import clear_output\n",
    "import pytz\n",
    "import smtplib\n",
    "import math\n",
    "from datetime import timedelta\n",
    "import matplotlib.pyplot as plt"
   ]
  },
  {
   "cell_type": "markdown",
   "metadata": {},
   "source": [
    "### Definning variable"
   ]
  },
  {
   "cell_type": "code",
   "execution_count": null,
   "metadata": {},
   "outputs": [],
   "source": [
    "exit_target_sell = False\n",
    "exit_range_sell = False\n",
    "exit_hour_sell = False\n",
    "exit_target_buy = False\n",
    "exit_range_buy = False\n",
    "exit_hour_buy = False\n",
    "in_dd = False"
   ]
  },
  {
   "cell_type": "code",
   "execution_count": null,
   "metadata": {},
   "outputs": [],
   "source": [
    "instrument = 'AAPL'\n",
    "hora_ini = '09:30:00'\n",
    "hora_fin = '16:00:00'\n",
    "client = 100\n",
    "tempo = 5\n",
    "num_bars = 4\n",
    "tempo_h = 5\n",
    "num_bars_h = int((num_bars*tempo)/tempo_h)\n",
    "account = 20000\n",
    "risk = 0.01\n",
    "profit_buy_pos = 0\n",
    "profit_sell_pos = 0\n",
    "profit_buy_neg = 0\n",
    "profit_sell_neg = 0\n",
    "exit_buy = 0\n",
    "exit_sell = 0\n",
    "total = []\n",
    "final_results = []"
   ]
  },
  {
   "cell_type": "markdown",
   "metadata": {},
   "source": [
    "### Calculate Comission Function"
   ]
  },
  {
   "cell_type": "code",
   "execution_count": null,
   "metadata": {},
   "outputs": [],
   "source": [
    "def calc_commission(shares):\n",
    "    commission = shares * 0.005\n",
    "    if (commission < 1):\n",
    "        commission = 1\n",
    "    return(commission)"
   ]
  },
  {
   "cell_type": "markdown",
   "metadata": {},
   "source": [
    "### Resample Data"
   ]
  },
  {
   "cell_type": "code",
   "execution_count": null,
   "metadata": {},
   "outputs": [],
   "source": [
    "def resample_data (df, tempo_in, tempo_out):\n",
    "    res = str(tempo_out)+'Min'\n",
    "    \n",
    "    if tempo_in < tempo_out:\n",
    "        date = df.index\n",
    "        Open = df.open.resample(res).first()\n",
    "        High = df.high.resample(res).max()\n",
    "        Low = df.low.resample(res).min()\n",
    "        Close = df.close.resample(res).last()\n",
    "        df_res = pd.concat([Open, High, Low, Close], axis = 1)\n",
    "        df_res.columns = ['open', 'high', 'low', 'close']\n",
    "        \n",
    "        return (df_res)\n",
    "    else:\n",
    "        print('no fue posible hacer la conversion')\n",
    "        return (df)"
   ]
  },
  {
   "cell_type": "markdown",
   "metadata": {},
   "source": [
    "### Progress Bar"
   ]
  },
  {
   "cell_type": "code",
   "execution_count": null,
   "metadata": {},
   "outputs": [],
   "source": [
    "def printProgressBar (iteration, total, prefix = '', suffix = '', decimals = 1, length = 100, fill = '#'):\n",
    "    percent = (\"{0:.\" + str(decimals) + \"f}\").format(100 * (iteration / float(total)))\n",
    "    filledLength = int(length * iteration // total)\n",
    "    bar = fill * filledLength + '-' * (length - filledLength)\n",
    "    print('\\r%s |%s| %s%% %s' % (prefix, bar, percent, suffix), end = '\\r')\n",
    "    # Print New Line on Complete\n",
    "    if iteration == total: \n",
    "        print()"
   ]
  },
  {
   "cell_type": "markdown",
   "metadata": {},
   "source": [
    "### Download Data"
   ]
  },
  {
   "cell_type": "code",
   "execution_count": null,
   "metadata": {},
   "outputs": [],
   "source": [
    "#historical = pd.read_csv('BABA_5min.csv').set_index('date')"
   ]
  },
  {
   "cell_type": "code",
   "execution_count": null,
   "metadata": {},
   "outputs": [],
   "source": [
    "historical_0 = pd.read_csv('data\\AAPL_5secs.csv').set_index('date')\n",
    "historical_0.index = pd.to_datetime(historical_0.index)"
   ]
  },
  {
   "cell_type": "code",
   "execution_count": null,
   "metadata": {},
   "outputs": [],
   "source": [
    "historical = resample_data(historical_0, 1/12, 5).dropna()"
   ]
  },
  {
   "cell_type": "markdown",
   "metadata": {},
   "source": [
    "### Setting the initial and final date to get days of evaluation"
   ]
  },
  {
   "cell_type": "code",
   "execution_count": null,
   "metadata": {},
   "outputs": [],
   "source": [
    "initial_date = '2018/06/05'\n",
    "final_date = '2019/06/05'\n",
    "\n",
    "d0 = pd.to_datetime(initial_date)\n",
    "d1 = pd.to_datetime(final_date)\n",
    "delta = d1 - d0\n",
    "delta = delta.days + 1\n",
    "print(delta)"
   ]
  },
  {
   "cell_type": "code",
   "execution_count": null,
   "metadata": {},
   "outputs": [],
   "source": [
    "dates = []\n",
    "for i in range(delta):\n",
    "    date_n = pd.to_datetime(initial_date) + timedelta(days=i)\n",
    "    date = str(date_n.strftime(\"%Y/%m/%d\" ))\n",
    "    dates += [date]"
   ]
  },
  {
   "cell_type": "markdown",
   "metadata": {},
   "source": [
    "### Setting variables to optimize"
   ]
  },
  {
   "cell_type": "markdown",
   "metadata": {},
   "source": [
    "#### target"
   ]
  },
  {
   "cell_type": "code",
   "execution_count": null,
   "metadata": {},
   "outputs": [],
   "source": [
    "start = 0.5\n",
    "paso = 0.1\n",
    "stop = 2.5"
   ]
  },
  {
   "cell_type": "code",
   "execution_count": null,
   "metadata": {},
   "outputs": [],
   "source": [
    "list_iter_target = []\n",
    "actual = 0\n",
    "while actual <= stop:\n",
    "    if actual == 0:\n",
    "        actual = start\n",
    "    if actual > 0:\n",
    "        list_iter_target.append(actual)\n",
    "        actual = round(actual + paso,2)"
   ]
  },
  {
   "cell_type": "code",
   "execution_count": null,
   "metadata": {},
   "outputs": [],
   "source": [
    "len_ite_tar = len(list_iter_target)"
   ]
  },
  {
   "cell_type": "markdown",
   "metadata": {},
   "source": [
    "#### number of vars"
   ]
  },
  {
   "cell_type": "code",
   "execution_count": null,
   "metadata": {},
   "outputs": [],
   "source": [
    "start = 1\n",
    "paso = 1\n",
    "stop = 4"
   ]
  },
  {
   "cell_type": "code",
   "execution_count": 55,
   "metadata": {},
   "outputs": [],
   "source": [
    "list_ite_num_bars = []\n",
    "actual = 0\n",
    "while actual <= stop:\n",
    "    if actual == 0:\n",
    "        actual = start\n",
    "    if actual > 0:\n",
    "        list_ite_num_bars.append(actual)\n",
    "        actual = round(actual + paso,2)"
   ]
  },
  {
   "cell_type": "code",
   "execution_count": null,
   "metadata": {},
   "outputs": [],
   "source": [
    "len_ite_num_bars = len(list_ite_num_bars)"
   ]
  },
  {
   "cell_type": "markdown",
   "metadata": {},
   "source": [
    "#### Temporality"
   ]
  },
  {
   "cell_type": "code",
   "execution_count": null,
   "metadata": {},
   "outputs": [],
   "source": [
    "list_ite_tempo = [1, 2, 5]"
   ]
  },
  {
   "cell_type": "code",
   "execution_count": null,
   "metadata": {},
   "outputs": [],
   "source": [
    "len_ite_tempo = len(list_ite_tempo)"
   ]
  },
  {
   "cell_type": "markdown",
   "metadata": {},
   "source": [
    "### Number of Iterations"
   ]
  },
  {
   "cell_type": "code",
   "execution_count": null,
   "metadata": {},
   "outputs": [],
   "source": [
    "total_iterations = len_ite_tempo*len_ite_num_bars*len_ite_tar\n",
    "total_iterations"
   ]
  },
  {
   "cell_type": "code",
   "execution_count": null,
   "metadata": {},
   "outputs": [],
   "source": [
    "total = pd.DataFrame(total)\n",
    "final_results = pd.DataFrame(final_results)"
   ]
  },
  {
   "cell_type": "markdown",
   "metadata": {},
   "source": [
    "### Main Code to calculate the backtesting results"
   ]
  },
  {
   "cell_type": "code",
   "execution_count": null,
   "metadata": {},
   "outputs": [],
   "source": [
    "iteration = 0\n",
    "for e in range(len_ite_tempo):   \n",
    "    tempo = list_ite_tempo[e]\n",
    "    for g in range (len_ite_num_bars):\n",
    "        num_bars = list_ite_num_bars[g]\n",
    "        tempo_h = 5\n",
    "        num_bars_h = int((num_bars*tempo)/tempo_h)\n",
    "        for f in range(len_ite_tar): \n",
    "            target_ite = list_iter_target[f]\n",
    "            iteration+=1\n",
    "            printProgressBar(iteration + 1, total_iterations   , prefix = 'Progress:', suffix = 'Complete', length = 50)\n",
    "            for i in range(delta):\n",
    "                #date to evaluate\n",
    "                date = dates[i]\n",
    "\n",
    "                #Getting the historical piece of data to evaluate\n",
    "                hist = historical.loc[date,:]\n",
    "\n",
    "                #Getting the max and mix from historical data. Calculating lots and target\n",
    "                if (hist.empty == False):\n",
    "                    maximum = hist.high.rolling(num_bars_h).max()[num_bars_h-1]\n",
    "                    minimum = hist.low.rolling(num_bars_h).min()[num_bars_h-1]\n",
    "                    range_tam = round(maximum - minimum,2)\n",
    "                    target = target_ite\n",
    "                    lots = math.floor((account*risk)/(maximum-minimum)) \n",
    "                else:\n",
    "                    maximum = minimum = 0\n",
    "                    range_tam = target = lots = 0\n",
    "                    max_high = min_low = 0\n",
    "                    exit_buy = exit_sell = 0\n",
    "                    calc_sell = calc_buy = False\n",
    "\n",
    "                #When to buy and sell\n",
    "                hist['in_buy'] = hist['high'] > maximum\n",
    "                hist['in_sell'] = hist['low'] < minimum\n",
    "\n",
    "                if (hist.in_sell.sum() > 0):\n",
    "                    calc_sell = True\n",
    "                    price_sell = round(minimum - 0.02,2)\n",
    "                    in_sell_bar = list(hist['in_sell'])\n",
    "                    in_sell_bar = in_sell_bar.index(True)\n",
    "                    highs_sell = hist.iloc[in_sell_bar:,1]\n",
    "                    lows_sell = hist.iloc[in_sell_bar:,2]\n",
    "                else:\n",
    "                    calc_sell = False\n",
    "                    price_sell = 0\n",
    "\n",
    "                if (hist.in_buy.sum() > 0):\n",
    "                    calc_buy = True\n",
    "                    price_buy = round(maximum + 0.02,2)\n",
    "                    in_buy_bar = list(hist['in_buy'])\n",
    "                    in_buy_bar = in_buy_bar.index(True)\n",
    "                    highs_buy = hist.iloc[in_buy_bar:,1]\n",
    "                    lows_buy = hist.iloc[in_buy_bar:,2]\n",
    "                else:\n",
    "                    calc_buy = False\n",
    "                    price_buy = 0\n",
    "\n",
    "                #Determining when to exit\n",
    "                ##sells\n",
    "                if (calc_sell == True):    \n",
    "                    for k in range(len(lows_sell)):\n",
    "                        if (k == 0):\n",
    "                            new_high_sells = highs_sell[k]\n",
    "                            new_low_sells = lows_sell[k]\n",
    "                        if (k > 0):\n",
    "                            if (highs_sell[k] > new_high_sells):\n",
    "                                new_high_sells = highs_sell[k]\n",
    "                            if (lows_sell[k] < new_low_sells):\n",
    "                                new_low_sells = lows_sell[k]\n",
    "\n",
    "                        profit_sell_pos = round(price_sell - new_low_sells ,2)\n",
    "                        profit_sell_neg = round(price_sell - new_high_sells , 2)\n",
    "                        if (profit_sell_neg < -range_tam ):\n",
    "                            profit_sell_neg = -range_tam\n",
    "\n",
    "                        if (profit_sell_pos > target):\n",
    "                            exit_target_sell = True\n",
    "                            exit_sell = target\n",
    "                        if (exit_target_sell == False) and (new_high_sells > maximum):\n",
    "                            exit_range_sell = True\n",
    "                            exit_sell = round(price_sell - maximum,2)\n",
    "                        if (exit_target_sell == False) and (exit_range_sell == False) and (k == len(lows_sell)-1):\n",
    "                            exit_hour_sell = True\n",
    "                            exit_sell = round(price_sell - hist.iloc[-1,3],2)\n",
    "                else:\n",
    "                    exit_sell = 0\n",
    "                    profit_sell_pos = 0\n",
    "                    profit_sell_neg = 0\n",
    "\n",
    "                ##buys\n",
    "                if(calc_buy == True):    \n",
    "                    for j in range(len(highs_buy)):\n",
    "                        if (j == 0):\n",
    "                            new_high_buys = highs_buy[j]\n",
    "                            new_low_buys = lows_buy[j]\n",
    "                        if(j > 0):\n",
    "                            if (highs_buy[j] > new_high_buys):\n",
    "                                new_high_buys = highs_buy[j]\n",
    "                            if(lows_buy[j] < new_low_buys):\n",
    "                                new_low_buys = lows_buy[j]\n",
    "\n",
    "                        profit_buy_pos = round(new_high_buys - price_buy ,2)\n",
    "                        profit_buy_neg = round(new_low_buys - price_buy, 2)\n",
    "                        if (profit_buy_neg < -range_tam ):\n",
    "                            profit_buy_neg = -range_tam\n",
    "\n",
    "                        if (profit_buy_pos > target):\n",
    "                            exit_target_buy = True\n",
    "                            exit_buy = target\n",
    "                        if (exit_target_buy == False) and (new_low_buys < minimum):\n",
    "                            exit_range_buy = True\n",
    "                            exit_buy = round(minimum - price_buy,2)\n",
    "                        if (exit_target_buy == False) and (exit_range_buy == False) and (j == len(highs_buy)-1):\n",
    "                            exit_hour_buy = True\n",
    "                            exit_buy = round(hist.iloc[-1,3] - price_buy,2)\n",
    "                else:\n",
    "                    exit_buy = 0\n",
    "                    profit_buy_pos = 0\n",
    "                    profit_buy_neg = 0\n",
    "\n",
    "                #Getting results\n",
    "                results = [date, exit_buy, exit_sell, profit_buy_pos, profit_sell_pos, \n",
    "                           profit_buy_neg, profit_sell_neg, lots]\n",
    "                results = pd.DataFrame(results).T.set_index(0)\n",
    "\n",
    "                #Appending results\n",
    "                total = pd.concat([total,results])\n",
    "\n",
    "                #restart variables in each iteration\n",
    "                profit_buy_pos = profit_sell_pos = 0\n",
    "                profit_buy_neg = profit_sell_neg = 0\n",
    "                exit_buy = exit_sell = 0\n",
    "                exit_target_sell = exit_range_sell = False\n",
    "                exit_hour_sell = exit_target_buy = False\n",
    "                exit_range_buy = exit_hour_buy = False\n",
    "                calc_buy = calc_sell = False\n",
    "                '''\n",
    "                print('for 0: ', e+1,'/', len_ite_tempo, ', tempo: ', tempo,\n",
    "                      ' || for 1: ', g+1,'/', len_ite_num_bars, ', num bars: ', num_bars,\n",
    "                      ' || for 2: ',f+1,'/',len_ite_tar,', target: ', round(target_ite,2) , \n",
    "                      ' || for 3: ', i+1,'/',delta)\n",
    "                clear_output(wait=True)\n",
    "                '''\n",
    "                \n",
    "            #Extern For cycle\n",
    "            #Naming the total table\n",
    "            total.index.names = ['date']\n",
    "            total.columns = ['final profit buy', 'final profit sell', 'max profit buy', 'max profit sell', 'min profit buy', 'min profit sell', 'lots']\n",
    "\n",
    "            #Total profit\n",
    "            results_long = total['final profit buy']*total['lots']\n",
    "            results_short = total['final profit sell']*total['lots']\n",
    "            pf_buy_usd = round(results_long.sum(),2)\n",
    "            pf_sell_usd = round(results_short.sum(),2)\n",
    "            total_profit_usd = round(pf_buy_usd + pf_sell_usd,2)\n",
    "\n",
    "            total['profit usd'] = (total['final profit buy']+total['final profit sell'])*total['lots']\n",
    "\n",
    "            #Commissions\n",
    "            commissions_per_trade = total['lots'].apply(calc_commission)\n",
    "            trades_per_day = [0]*delta\n",
    "            for h in range(delta):\n",
    "                entry_buys = total['final profit buy'] != 0\n",
    "                entry_sells = total['final profit sell'] != 0\n",
    "                trades_per_day[h] = entry_buys[h] * 2 + entry_sells[h] * 2\n",
    "            total['commissions'] = commissions_per_trade * trades_per_day\n",
    "            sum_commissions = total['commissions'].sum()\n",
    "\n",
    "            #Net Profit -----------------------\n",
    "            total['net profit'] = total['profit usd'] - total['commissions']\n",
    "            net_profit = total_profit_usd - sum_commissions\n",
    "\n",
    "            #Gross Profit\n",
    "            profit_long = results_long[results_long > 0].sum()\n",
    "            profits_short = results_short[results_short > 0].sum()\n",
    "            total_profits = profit_long + profits_short\n",
    "\n",
    "            #Gross Loss\n",
    "            losses_long = results_long[results_long < 0].sum()\n",
    "            losses_short = results_short[results_short < 0].sum()\n",
    "            total_losses = losses_long + losses_short\n",
    "\n",
    "            #Profit Factor -----------------------\n",
    "            profit_factor = round(abs(total_profits/total_losses),2)\n",
    "\n",
    "            #Number of trades\n",
    "            shorts = total['final profit sell'] != 0\n",
    "            number_shorts = shorts.sum()\n",
    "            longs = total['final profit buy'] != 0\n",
    "            number_longs = longs.sum()\n",
    "            total_trades = number_longs + number_shorts\n",
    "\n",
    "            #Expected Payoff ---------------------------\n",
    "            expected_payoff = round(net_profit / total_trades,2)\n",
    "\n",
    "            #Accumulated Profit\n",
    "            total['accumulated profit'] = 0\n",
    "            ind_net = total.columns.get_loc(\"net profit\")\n",
    "            ind_acc = total.columns.get_loc(\"accumulated profit\")\n",
    "            for l in range(delta):\n",
    "                if (l == 0):\n",
    "                    total.iloc[l,ind_acc] = account + total.iloc[l,ind_net]\n",
    "                if (l > 0):\n",
    "                    total.iloc[l,ind_acc] = total.iloc[l-1,ind_acc] + total.iloc[l,ind_net]\n",
    "\n",
    "            total['max profit'] = 0\n",
    "            ind_max = total.columns.get_loc(\"max profit\")\n",
    "            for i in range(delta):\n",
    "                if (i == 0):\n",
    "                    total.iloc[i,ind_max] = total.iloc[i,ind_acc]\n",
    "                if (i > 0):\n",
    "                    if (total.iloc[i,ind_acc] > total.iloc[i-1,ind_max]):\n",
    "                        total.iloc[i,ind_max] = total.iloc[i,ind_acc]\n",
    "                    else:\n",
    "                        total.iloc[i,ind_max] = total.iloc[i-1,ind_max]\n",
    "\n",
    "            #Maximal Drawdown -----------------\n",
    "            drawdown = total['max profit'] - total['accumulated profit']\n",
    "            max_drawdown = drawdown.max()\n",
    "\n",
    "            #Relative Drawdown -------------------------\n",
    "            relative_drawdown = round((max_drawdown/account)*100,2)\n",
    "\n",
    "            #----------------------Final Results--------------------------------\n",
    "            partial_results = [int(tempo), int(num_bars), target_ite, net_profit, profit_factor, \n",
    "                               expected_payoff, max_drawdown,relative_drawdown]\n",
    "            partial_results = pd.DataFrame(partial_results).T.set_index(0)\n",
    "\n",
    "            final_results = pd.concat([final_results,partial_results])\n",
    "\n",
    "            #Restart variables-----------------------\n",
    "            total = []\n",
    "            total = pd.DataFrame(total)"
   ]
  },
  {
   "cell_type": "code",
   "execution_count": null,
   "metadata": {},
   "outputs": [],
   "source": [
    "final_results.index.names = ['temporality']\n",
    "final_results.columns = ['num of bars', 'target', 'net profit', \n",
    "                 'profit factor', 'expected payoff', 'max drawdown', 'relative drawdown']"
   ]
  },
  {
   "cell_type": "code",
   "execution_count": null,
   "metadata": {},
   "outputs": [],
   "source": [
    "final_results['profit_dd'] = final_results['net profit'] / final_results['max drawdown']"
   ]
  },
  {
   "cell_type": "code",
   "execution_count": null,
   "metadata": {},
   "outputs": [],
   "source": [
    "final_results"
   ]
  },
  {
   "cell_type": "code",
   "execution_count": null,
   "metadata": {},
   "outputs": [],
   "source": [
    "#final_results.to_csv('results.csv')"
   ]
  },
  {
   "cell_type": "code",
   "execution_count": null,
   "metadata": {},
   "outputs": [],
   "source": []
  }
 ],
 "metadata": {
  "kernelspec": {
   "display_name": "Python 3",
   "language": "python",
   "name": "python3"
  },
  "language_info": {
   "codemirror_mode": {
    "name": "ipython",
    "version": 3
   },
   "file_extension": ".py",
   "mimetype": "text/x-python",
   "name": "python",
   "nbconvert_exporter": "python",
   "pygments_lexer": "ipython3",
   "version": "3.7.3"
  }
 },
 "nbformat": 4,
 "nbformat_minor": 2
}
